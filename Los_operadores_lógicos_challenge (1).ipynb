{
  "cells": [
    {
      "cell_type": "markdown",
      "metadata": {
        "id": "VEn_SLPyboN0"
      },
      "source": [
        "#Los operadores lógicos \n",
        "\n"
      ]
    },
    {
      "cell_type": "markdown",
      "metadata": {
        "id": "P1vqdpRJQMv6"
      },
      "source": [
        "Recordemos los operadores de comparación\n",
        "\n",
        "![img1](https://facialix.com/images/cond.png)"
      ]
    },
    {
      "cell_type": "markdown",
      "metadata": {
        "id": "jXKTPrImShCj"
      },
      "source": [
        "y veamos algunos ejemplos de los operadores logicos en acción\n",
        "\n",
        "![img2](https://facialix.com/images/logicos.png)"
      ]
    },
    {
      "cell_type": "markdown",
      "metadata": {
        "id": "Ltf91jwLSB_d"
      },
      "source": [
        "**En este ejercicio debes mostrar el valor que se obtiene de las sentencias al ejecutarlas en codigo y explicarlas:**"
      ]
    },
    {
      "cell_type": "markdown",
      "metadata": {
        "id": "8CXLWwF2TS5D"
      },
      "source": [
        "1) **not true**"
      ]
    },
    {
      "cell_type": "code",
      "execution_count": 13,
      "metadata": {
        "id": "dn0D2e0wB4mv"
      },
      "outputs": [
        {
          "data": {
            "text/plain": [
              "False"
            ]
          },
          "execution_count": 13,
          "metadata": {},
          "output_type": "execute_result"
        }
      ],
      "source": [
        "\n",
        "not True"
      ]
    },
    {
      "cell_type": "markdown",
      "metadata": {
        "id": "LIIjBScjETLc"
      },
      "source": [
        "Al colocar not ya estamos declarando que ese True es falso."
      ]
    },
    {
      "cell_type": "markdown",
      "metadata": {
        "id": "JGlH_p9ll3yO"
      },
      "source": [
        "2) **not (1+2 != 3)**"
      ]
    },
    {
      "cell_type": "code",
      "execution_count": 16,
      "metadata": {
        "id": "_hobkTpAUEB4"
      },
      "outputs": [
        {
          "data": {
            "text/plain": [
              "True"
            ]
          },
          "execution_count": 16,
          "metadata": {},
          "output_type": "execute_result"
        }
      ],
      "source": [
        "\n",
        "not(1+2 !=3)\n"
      ]
    },
    {
      "cell_type": "markdown",
      "metadata": {
        "id": "0Gw_3yeSFKRf"
      },
      "source": [
        "En la operacion de lo que esta entre parentesis indicamos que hay una diferencia\n",
        "lo cual no es verdad pero al colocar antes el not nos dice que esto es verdadoro por que omitimos el diferencial que se \n",
        "encuentra entre parentesis."
      ]
    },
    {
      "cell_type": "markdown",
      "metadata": {
        "id": "nTis6gKvoNkm"
      },
      "source": [
        "3) **x = (len(\"jugar\") > 5) and (len(\"jugar\") < 10)**"
      ]
    },
    {
      "cell_type": "code",
      "execution_count": 17,
      "metadata": {
        "colab": {
          "base_uri": "https://localhost:8080/"
        },
        "id": "I3I7VbTdoin4",
        "outputId": "224317b6-73be-4043-ea37-01be5ec3ce68"
      },
      "outputs": [
        {
          "data": {
            "text/plain": [
              "False"
            ]
          },
          "execution_count": 17,
          "metadata": {},
          "output_type": "execute_result"
        }
      ],
      "source": [
        "\n",
        "x = (len(\"jugar\") > 5) and (len(\"jugar\") < 10)\n",
        "x"
      ]
    },
    {
      "cell_type": "markdown",
      "metadata": {
        "id": "Zml_nA0vFPqR"
      },
      "source": [
        "Es FALSE debido a que en la primera operacion es FALSE Y en la segunda es TRUE.\n",
        "\n",
        "FALSE AND TRUE = FALSE \n",
        "\n",
        "🖍 ..."
      ]
    },
    {
      "cell_type": "markdown",
      "metadata": {
        "id": "HOwNy5VOorNy"
      },
      "source": [
        "4) **\"alto\"[2] == \"t\" and x**"
      ]
    },
    {
      "cell_type": "code",
      "execution_count": 18,
      "metadata": {
        "id": "mZx6iGmeoqEA"
      },
      "outputs": [
        {
          "data": {
            "text/plain": [
              "False"
            ]
          },
          "execution_count": 18,
          "metadata": {},
          "output_type": "execute_result"
        }
      ],
      "source": [
        "\n",
        "\"alto\"[2] == \"t\" and x"
      ]
    },
    {
      "cell_type": "markdown",
      "metadata": {
        "id": "ze-L4sA0FZv1"
      },
      "source": [
        "En la primera operacion nos indica que es TRUE ya que es igual t pero nos quiere indicar que x es igual por lo que esto es FALSE. \n",
        "\n",
        "\n",
        "TRUE AND FALSE = FALSE \n",
        "\n",
        "🖍 ..."
      ]
    },
    {
      "cell_type": "markdown",
      "metadata": {
        "id": "cCqs1tjHNpv4"
      },
      "source": [
        "5) **842913%10 != 3 and len(\"café\") == 3**"
      ]
    },
    {
      "cell_type": "code",
      "execution_count": 6,
      "metadata": {
        "id": "70-kC-f9oqAe"
      },
      "outputs": [
        {
          "data": {
            "text/plain": [
              "False"
            ]
          },
          "execution_count": 6,
          "metadata": {},
          "output_type": "execute_result"
        }
      ],
      "source": [
        "#Escribe el codigo aquí\n",
        "\n",
        "\n",
        "842913%10!= 3 and len(\"cafe\") == 3"
      ]
    },
    {
      "cell_type": "markdown",
      "metadata": {
        "id": "TpDnFFjcGdkj"
      },
      "source": [
        "En la primera operacion es TRUE por que si hay una diferencia y en la segunda es FALSE por que no es correcta la longitud. \n",
        "\n",
        "TRUE AND FALSE= FALSE \n",
        "\n",
        "🖍 ..."
      ]
    },
    {
      "cell_type": "markdown",
      "metadata": {
        "id": "ato2HirpOAy9"
      },
      "source": [
        "6) **0!=0 or \"a\" < \"y\"**"
      ]
    },
    {
      "cell_type": "code",
      "execution_count": 7,
      "metadata": {
        "id": "r4NtOzm3op94"
      },
      "outputs": [
        {
          "data": {
            "text/plain": [
              "True"
            ]
          },
          "execution_count": 7,
          "metadata": {},
          "output_type": "execute_result"
        }
      ],
      "source": [
        "#Escribe el codigo aquí\n",
        "\n",
        "0!=0 or \"a\" < \"y\"\n"
      ]
    },
    {
      "cell_type": "markdown",
      "metadata": {
        "id": "Roy4PanwGfxi"
      },
      "source": [
        "En la primera operacion es FALSE debido a que no es diferente y en la segunda es TRUE.\n",
        "\n",
        "FALSE OR TRUE = TRUE \n",
        "\n",
        "🖍 ..."
      ]
    },
    {
      "cell_type": "markdown",
      "metadata": {
        "id": "5W25SYZeORtE"
      },
      "source": [
        "7) **True or int(\"50\") >= 50**"
      ]
    },
    {
      "cell_type": "code",
      "execution_count": 8,
      "metadata": {
        "id": "mTpYdCzFop7s"
      },
      "outputs": [
        {
          "data": {
            "text/plain": [
              "True"
            ]
          },
          "execution_count": 8,
          "metadata": {},
          "output_type": "execute_result"
        }
      ],
      "source": [
        "#Escribe el codigo aquí\n",
        "\n",
        "True or int(\"50\")>=50"
      ]
    },
    {
      "cell_type": "markdown",
      "metadata": {
        "id": "hMZpEBHCGkqJ"
      },
      "source": [
        "En ambas operaciones nos da TRUE.\n",
        " \n",
        "TRUE OR TRUE = TRUE \n",
        "\n",
        "🖍 ..."
      ]
    },
    {
      "cell_type": "markdown",
      "metadata": {
        "id": "Dp4beMsqOhOh"
      },
      "source": [
        "8) **edad = 20**\n",
        "\n",
        "**not(x) or edad%2==0**"
      ]
    },
    {
      "cell_type": "code",
      "execution_count": 15,
      "metadata": {
        "id": "bTco9wG8op5G"
      },
      "outputs": [
        {
          "data": {
            "text/plain": [
              "True"
            ]
          },
          "execution_count": 15,
          "metadata": {},
          "output_type": "execute_result"
        }
      ],
      "source": [
        "#Escribe el codigo aquí\n",
        "\n",
        "edad = 20\n",
        "not(x) or edad%2 == 0\n"
      ]
    },
    {
      "cell_type": "markdown",
      "metadata": {
        "id": "AyH5LeZ4HgaZ"
      },
      "source": [
        "En la primera operacion el resultado es TRUE y en la segunda es FALSE pero en OR \n",
        "\n",
        "TRUE OR FALSE = TRUE \n",
        "\n",
        "🖍 ..."
      ]
    },
    {
      "cell_type": "markdown",
      "metadata": {
        "id": "QXou2mt7Oy4r"
      },
      "source": [
        "9) **es_cliente = False**\n",
        "\n",
        "**not (es_cliente and not(edad < 18))**"
      ]
    },
    {
      "cell_type": "code",
      "execution_count": 12,
      "metadata": {
        "id": "-p3G0qH3op2X"
      },
      "outputs": [
        {
          "data": {
            "text/plain": [
              "True"
            ]
          },
          "execution_count": 12,
          "metadata": {},
          "output_type": "execute_result"
        }
      ],
      "source": [
        "#Escribe el codigo aquí\n",
        "\n",
        "es_cliente = False\n",
        "\n",
        "not (es_cliente and not(edad < 18))"
      ]
    },
    {
      "cell_type": "markdown",
      "metadata": {
        "id": "hBpjtW7iHhW8"
      },
      "source": [
        "Al realizar las operaciones por separado y dentro de la opeeracion LO que se encuentra en los parentesis nos da TRUE. \n",
        "FINALMENTE EVALUAMOS EL TRUE de los parentesis con el FALSE  y nos da como resultado TRUE. \n",
        "\n",
        "FALSE AND TRUE = TRUE\n",
        "\n",
        "\n",
        "🖍 ..."
      ]
    },
    {
      "cell_type": "markdown",
      "metadata": {
        "id": "_jKHKuBkbxhX"
      },
      "source": [
        "###Recursos extra para estudiar y ejercios\n"
      ]
    },
    {
      "cell_type": "markdown",
      "metadata": {
        "id": "86XEDrCbdBCr"
      },
      "source": [
        "- Video corto de Coursera: [Tablas de verdad y álgebra booleana](https://www.coursera.org/lecture/programacion-python/tablas-de-verdad-y-algebra-booleana-JJs0E)\n",
        "- Articulo corto de [Tablas de la verdad](https://www.ecured.cu/Tablas_de_la_verdad)\n",
        "- Ejercicios practicos en portal de [Tablas de Verdad](https://www.edu.xunta.gal/espazoAbalar/sites/espazoAbalar/files/datos/1493724904/contido/tablas_de_verdad.html)\n",
        "- Guía de [Ejercicios de Lógica](https://www.fing.edu.uy/tecnoinf/mvd/cursos/mdl1/material/pra/buceo_noct/mdl1-pr-logica.pdf)"
      ]
    }
  ],
  "metadata": {
    "colab": {
      "collapsed_sections": [],
      "name": "Los operadores lógicos - challenge.ipynb",
      "provenance": []
    },
    "interpreter": {
      "hash": "78ad4e1916ef553fa413091b51d77ed22647cadf15f08fbace27dc02371ff43f"
    },
    "kernelspec": {
      "display_name": "Python 3.9.7 ('base')",
      "language": "python",
      "name": "python3"
    },
    "language_info": {
      "codemirror_mode": {
        "name": "ipython",
        "version": 3
      },
      "file_extension": ".py",
      "mimetype": "text/x-python",
      "name": "python",
      "nbconvert_exporter": "python",
      "pygments_lexer": "ipython3",
      "version": "3.9.7"
    }
  },
  "nbformat": 4,
  "nbformat_minor": 0
}
