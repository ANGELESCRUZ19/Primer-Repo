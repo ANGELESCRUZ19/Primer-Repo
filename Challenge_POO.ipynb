{
  "cells": [
    {
      "cell_type": "markdown",
      "metadata": {
        "id": "4EFGoEpOl5J9"
      },
      "source": [
        "##Ejercicio 1\n",
        "Realizar un programa que conste de una clase llamada Alumno que tenga como atributos el nombre y la nota del alumno. Definir los métodos para inicializar sus atributos, imprimirlos y mostrar un mensaje con el resultado de la nota y si ha aprobado o no.\n"
      ]
    },
    {
      "cell_type": "code",
      "execution_count": 5,
      "metadata": {
        "id": "P9ullKnYnFfF"
      },
      "outputs": [],
      "source": [
        "class Alumno:\n",
        "    def __init__(self, nombre, nota):\n",
        "        self.nombre = nombre\n",
        "        self.nota = nota\n",
        "\n",
        "def aprobado(self):\n",
        "    if self.nota >= 60:\n",
        "        return \"Aprobado\"\n",
        "    else:\n",
        "        return \"No aprovado\""
      ]
    },
    {
      "cell_type": "code",
      "execution_count": 7,
      "metadata": {},
      "outputs": [],
      "source": [
        "alumno1 = Alumno(\"Angeles\", 80)"
      ]
    },
    {
      "cell_type": "markdown",
      "metadata": {
        "id": "b_bGLJVvmDb5"
      },
      "source": [
        "##Ejercicio 2\n",
        "Realizar un programa que tenga una clase Persona con las siguientes características. La clase tendrá como atributos el nombre y la edad de una persona. Implementar los métodos necesarios para inicializar los atributos, mostrar los datos e indicar si la persona es mayor de edad o no.\n"
      ]
    },
    {
      "cell_type": "code",
      "execution_count": 13,
      "metadata": {
        "id": "t_Kbaj2EnF9N"
      },
      "outputs": [],
      "source": [
        "class Persona:\n",
        "    def inicializar (self, nombre, edad):\n",
        "        self.nombre=nombre\n",
        "        self.edad=edad"
      ]
    },
    {
      "cell_type": "code",
      "execution_count": 14,
      "metadata": {},
      "outputs": [],
      "source": [
        "def imprimir(self):\n",
        "    print(\"Nombre: \",self.nombre)\n",
        "    print(\"Edad: \",self.edad)"
      ]
    },
    {
      "cell_type": "code",
      "execution_count": 15,
      "metadata": {},
      "outputs": [],
      "source": [
        "def mayor_edad(self):\n",
        "    if self.edad >=18:\n",
        "        print(\"Es mayor de edad\")\n",
        "    else:\n",
        "        print(\"No es mayor de edad\")"
      ]
    },
    {
      "cell_type": "code",
      "execution_count": 18,
      "metadata": {},
      "outputs": [
        {
          "ename": "TypeError",
          "evalue": "inicializar() missing 1 required positional argument: 'edad'",
          "output_type": "error",
          "traceback": [
            "\u001b[1;31m---------------------------------------------------------------------------\u001b[0m",
            "\u001b[1;31mTypeError\u001b[0m                                 Traceback (most recent call last)",
            "\u001b[1;32mc:\\Users\\Angeles\\Desktop\\DATA_SCIENCE\\Challenge\\Challenge_POO.ipynb Cell 8'\u001b[0m in \u001b[0;36m<cell line: 2>\u001b[1;34m()\u001b[0m\n\u001b[0;32m      <a href='vscode-notebook-cell:/c%3A/Users/Angeles/Desktop/DATA_SCIENCE/Challenge/Challenge_POO.ipynb#ch0000020?line=0'>1</a>\u001b[0m persona1\u001b[39m=\u001b[39mPersona()\n\u001b[1;32m----> <a href='vscode-notebook-cell:/c%3A/Users/Angeles/Desktop/DATA_SCIENCE/Challenge/Challenge_POO.ipynb#ch0000020?line=1'>2</a>\u001b[0m persona1\u001b[39m.\u001b[39;49minicializar(\u001b[39m\"\u001b[39;49m\u001b[39mAngeles, 25\u001b[39;49m\u001b[39m\"\u001b[39;49m)\n\u001b[0;32m      <a href='vscode-notebook-cell:/c%3A/Users/Angeles/Desktop/DATA_SCIENCE/Challenge/Challenge_POO.ipynb#ch0000020?line=2'>3</a>\u001b[0m persona1\u001b[39m.\u001b[39mimprimir()\n\u001b[0;32m      <a href='vscode-notebook-cell:/c%3A/Users/Angeles/Desktop/DATA_SCIENCE/Challenge/Challenge_POO.ipynb#ch0000020?line=3'>4</a>\u001b[0m persona1\u001b[39m.\u001b[39mmayor_edad()\n",
            "\u001b[1;31mTypeError\u001b[0m: inicializar() missing 1 required positional argument: 'edad'"
          ]
        }
      ],
      "source": [
        "persona1=Persona()\n",
        "persona1.inicializar(\"Angeles, 25\")\n",
        "persona1.imprimir()\n",
        "persona1.mayor_edad()"
      ]
    },
    {
      "cell_type": "markdown",
      "metadata": {
        "id": "Esf21Be0mTBn"
      },
      "source": [
        "##Ejercicio 3\n",
        "Desarrollar un programa que cargue los datos de un triángulo. Implementar una clase con los métodos para inicializar los atributos, imprimir el valor del lado con un tamaño mayor y  el tipo de triángulo que es (equilátero, isósceles o escaleno).\n"
      ]
    },
    {
      "cell_type": "code",
      "execution_count": 30,
      "metadata": {
        "id": "sPqi1jqCnGfD"
      },
      "outputs": [],
      "source": [
        "class Triangulo:\n",
        "    def __init__(self, lado1, lado2, lado3):\n",
        "        self.lado1 = lado1\n",
        "        self.lado2 = lado2\n",
        "        self.lado3 = lado3\n",
        "\n",
        "    def mayor_menor(self):\n",
        "        print(f\"El lado mayor es:{max(self.lado1, max(self.lado2, self.lado3))}\")\n",
        "        print(f\"El lado menor es:{min(self.lado1, min(self.lado2, self.lado3))}\")\n",
        "\n",
        "    def tipo(self): \n",
        "        if self.lado1 == self.lado2 and self.lado2 == self.lado3:\n",
        "            return \"Equilatero\"\n",
        "        elif self.lado1 == self.lado2 and self.lado2 != self.lado3:\n",
        "            return \"Isoceles\"\n",
        "        elif self.lado1 == self.lado3 and self.lado2 != self.lado3:\n",
        "            return \"Isoceles\"\n",
        "        elif self.lado2 == self.lado3 and self.lado2 != self.lado1:\n",
        "            return \"Escaleno\"\n",
        "    "
      ]
    },
    {
      "cell_type": "code",
      "execution_count": 31,
      "metadata": {},
      "outputs": [],
      "source": [
        "triangulo1 = Triangulo(3,3,3)"
      ]
    },
    {
      "cell_type": "code",
      "execution_count": 32,
      "metadata": {},
      "outputs": [
        {
          "name": "stdout",
          "output_type": "stream",
          "text": [
            "El lado mayor es:3\n",
            "El lado menor es:3\n"
          ]
        }
      ],
      "source": [
        "triangulo1.mayor_menor()"
      ]
    },
    {
      "cell_type": "code",
      "execution_count": 33,
      "metadata": {},
      "outputs": [
        {
          "data": {
            "text/plain": [
              "'Equilatero'"
            ]
          },
          "execution_count": 33,
          "metadata": {},
          "output_type": "execute_result"
        }
      ],
      "source": [
        "triangulo1.tipo()"
      ]
    },
    {
      "cell_type": "markdown",
      "metadata": {
        "id": "FuDVAwyLmXM_"
      },
      "source": [
        "##Ejercicio 4\n",
        "Realizar un programa en el cual se declaren dos valores enteros por teclado utilizando el método __init__. Calcular después la suma, resta, multiplicación y división. Utilizar un método para cada una e imprimir los resultados obtenidos. Llamar a la clase Calculadora."
      ]
    },
    {
      "cell_type": "code",
      "execution_count": 34,
      "metadata": {
        "id": "VnFcFidTnG-O"
      },
      "outputs": [],
      "source": [
        "class Calculadora:\n",
        "    def __init__ (self, valor1, valor2):\n",
        "        self.valor1 = valor1\n",
        "        self.valor2 = valor2\n",
        "    \n",
        "    def suma(self):\n",
        "        suma=self.valor1 + self.valor2\n",
        "        \n",
        "    def resta(sellf):\n",
        "        resta=self.valor1 = self.valor2\n",
        "    def multiplicacion(self):\n",
        "        multiplicacion=self.valor1 * self.valor2\n",
        "    def division(self):\n",
        "        division=self.valor1 / self.valor2\n"
      ]
    },
    {
      "cell_type": "code",
      "execution_count": 41,
      "metadata": {},
      "outputs": [
        {
          "data": {
            "text/plain": [
              "<bound method Calculadora.division of <__main__.Calculadora object at 0x000001EA6944C160>>"
            ]
          },
          "execution_count": 41,
          "metadata": {},
          "output_type": "execute_result"
        }
      ],
      "source": [
        "calcular = Calculadora(100,20)\n",
        "calcular.suma\n",
        "calcular.resta\n",
        "calcular.multiplicacion\n",
        "calcular.division"
      ]
    },
    {
      "cell_type": "markdown",
      "metadata": {
        "id": "NmarrIA6mdo5"
      },
      "source": [
        "##Ejercicio 5\n",
        "Realizar una clase que administre una agenda. Se debe almacenar para cada contacto el nombre, el teléfono y el email. Además deberá mostrar un menú con las siguientes opciones\n",
        "\n",
        "\n",
        "\n",
        "*   Añadir contacto\n",
        "*   Lista de contactos\n",
        "*   Buscar contacto\n",
        "*   Editar contacto\n",
        "*   Cerrar agenda"
      ]
    },
    {
      "cell_type": "code",
      "execution_count": 42,
      "metadata": {
        "id": "hvhudvVInHpR"
      },
      "outputs": [],
      "source": [
        "class Agenda:\n",
        "\tdef __init__(self):\n",
        "\t\tself.contactos=[]\n",
        "\n",
        "\tdef menu(self):\n",
        "\t\tprint()\n",
        "\t\tmenu=[\n",
        "\t\t\t['Agenda Personal'],\n",
        "\t\t\t['1. Añadir Contacto',\"anadir\"],\n",
        "\t\t\t['2. Lista de contactos'],\n",
        "\t\t\t['3. Buscar contacto'],\n",
        "\t\t\t['4. Editar contacto'],\n",
        "\t\t\t['5. Cerrar agenda']\n",
        "\t\t]"
      ]
    },
    {
      "cell_type": "code",
      "execution_count": 54,
      "metadata": {},
      "outputs": [
        {
          "ename": "IndentationError",
          "evalue": "unexpected indent (1693062071.py, line 22)",
          "output_type": "error",
          "traceback": [
            "\u001b[1;36m  Input \u001b[1;32mIn [54]\u001b[1;36m\u001b[0m\n\u001b[1;33m    def añadir(self):\u001b[0m\n\u001b[1;37m    ^\u001b[0m\n\u001b[1;31mIndentationError\u001b[0m\u001b[1;31m:\u001b[0m unexpected indent\n"
          ]
        }
      ],
      "source": [
        "\n",
        "\t\tfor x in range(6):\n",
        "\t\t\tprint(menu[x][0])\n",
        " \n",
        "\t\topcion=int(input(\"Introduzca la opción deseada: \"))\n",
        "\t\tif opcion==1:\n",
        "\t\t\tself.anadir()\n",
        "\t\telif opcion==2:\n",
        "\t\t\tself.lista()\n",
        "\t\telif opcion==3:\n",
        "\t\t\tself.buscar()\n",
        "\t\telif opcion==4:\n",
        "\t\t\tself.editar()\n",
        "\t\telif opcion==5:\n",
        "\t\t\tprint(\"Saliendo de la agenda ...\")\n",
        "\t\t\texit()\n",
        " \n",
        "\t\t# volvemos a llamar al menú\n",
        "\t\tself.menu()\n",
        " \n",
        " \n",
        "\t# función para añadir un contacto\n",
        "\tdef añadir(self):\n",
        "\t\tprint(\"---------------------\")\n",
        "\t\tprint(\"Añadir nuevo contacto\")\n",
        "\t\tprint(\"---------------------\")\n",
        "\t\tnom=input(\"Introduzca el nombre: \")\n",
        "\t\ttelf=int(input(\"Introduzca el teléfono: \"))\n",
        "\t\temail=input(\"Introduzca el email: \")\n",
        "\t\tself.contactos.append({'nombre':nom,'telf':telf,'email':email})\n",
        "\t\t\n",
        " \n",
        "\t# función para imprimir la lista de contactos\n",
        "\t# En este caso imprimiremos solo los nombres de los contactos\n",
        "\t# con ellos podremos buscar luego un contacto\n",
        "\tdef lista(self):\n",
        "\t\tprint(\"------------------\")\n",
        "\t\tprint(\"Lista de contactos\")\n",
        "\t\tprint(\"------------------\")\n",
        "\t\tif len(self.contactos) == 0:\n",
        "\t\t\tprint(\"No hay ningún contacto en la agenda\")\n",
        "\t\telse:\n",
        "\t\t\tfor x in range(len(self.contactos)):\n",
        "\t\t\t\tprint(self.contactos[x]['nombre'])\n",
        "\t\t\n",
        " \n",
        "\t# función para buscar un contacto a través del nombre\n",
        "\tdef buscar(self):\n",
        "\t\tprint(\"---------------------\")\n",
        "\t\tprint(\"Buscador de contactos\")\n",
        "\t\tprint(\"---------------------\")\n",
        "\t\tnom=input(\"Introduzca el nombre del contacto: \")\n",
        "\t\tfor x in range(len(self.contactos)):\n",
        "\t\t\tif nom == self.contactos[x]['nombre']:\n",
        "\t\t\t\tprint(\"Datos del contacto\")\n",
        "\t\t\t\tprint(\"Nombre: \",self.contactos[x]['nombre'])\n",
        "\t\t\t\tprint(\"Teléfono: \",self.contactos[x]['telf'])\n",
        "\t\t\t\tprint(\"E-mail: \",self.contactos[x]['email'])\n",
        "\t\t\t\treturn x\n",
        "\t\t\n",
        " \n",
        " \n",
        "\t# función para editar los datos de un contacto\n",
        "\tdef editar(self):\n",
        "\t\tprint(\"---------------\")\n",
        "\t\tprint(\"Editar contacto\")\n",
        "\t\tprint(\"---------------\")\n",
        "\t\tdata=self.buscar()\n",
        "\t\tcondition=False\n",
        "\t\twhile condition==False:\n",
        "\t\t\tprint(\"Selecciona que quieres editar: \")\n",
        "\t\t\tprint(\"1. Nombre\")\n",
        "\t\t\tprint(\"2. Teléfono\")\n",
        "\t\t\tprint(\"3. E-mail\")\n",
        "\t\t\tprint(\"4. Volver\")\n",
        "\t\t\toption=int(input(\"Introduzca la opción deseada: \"))\n",
        "\t\t\tif option==1:\n",
        "\t\t\t\tnom=input(\"Introduzca el nuevo nombre: \")\n",
        "\t\t\t\tself.contactos[data]['nombre']=nom\n",
        "\t\t\telif option==2:\n",
        "\t\t\t\ttelf=input(\"Introduzca el nuevo teléfono: \")\n",
        "\t\t\t\tself.contactos[data]['telf']=telf\n",
        "\t\t\telif option==3:\n",
        "\t\t\t\temail=input(\"Introduzca el nuevo email: \")\n",
        "\t\t\t\tself.contactos[data]['email']=email\n",
        "\t\t\telif option==4:\n",
        "\t\t\t\tcondition=True\n",
        " \n",
        " \n",
        " \n",
        "# bloque principal\n",
        "agenda=Agenda()\n",
        "agenda.menu()\n",
        " "
      ]
    },
    {
      "cell_type": "markdown",
      "metadata": {
        "id": "pIFlDlAnmyyh"
      },
      "source": [
        "##Ejercicio 6\n",
        "En un banco tienen clientes que pueden hacer depósitos y extracciones de dinero. El banco requiere también al final del día calcular la cantidad de dinero que se ha depositado.\n",
        "\n",
        "Se deberán crear dos clases, la clase cliente y la clase banco. La clase cliente tendrá los atributos nombre y cantidad y los métodos __init__, depositar, extraer, mostrar_total.\n",
        "\n",
        "La clase banco tendrá como atributos 3 objetos de la clase cliente y los métodos __init__, operar y deposito_total."
      ]
    },
    {
      "cell_type": "code",
      "execution_count": 55,
      "metadata": {
        "id": "7gjXBfvCnIQJ"
      },
      "outputs": [
        {
          "name": "stdout",
          "output_type": "stream",
          "text": [
            "El total de dinero del banco es:  943\n",
            "Ivan  tiene depositada una cantidad de  600\n",
            "Marcos  tiene depositada una cantidad de  300\n",
            "Juan  tiene depositada una cantidad de  43\n"
          ]
        }
      ],
      "source": [
        "class Banco:\n",
        "\t# inicializamos\n",
        "\tdef __init__(self):\n",
        "\t\tself.cliente1=Cliente(\"Ivan\")\n",
        "\t\tself.cliente2=Cliente(\"Marcos\")\n",
        "\t\tself.cliente3=Cliente(\"Juan\")\n",
        " \n",
        "\t# función para operar\n",
        "\tdef operacion(self):\n",
        "\t\tself.cliente1.depositar(1000)\n",
        "\t\tself.cliente2.depositar(300)\n",
        "\t\tself.cliente3.depositar(43)\n",
        "\t\tself.cliente1.extraer(400)\n",
        " \n",
        "\t# función para obtener los depósitos totales\n",
        "\tdef depositos(self):\n",
        "\t\ttotal=self.cliente1.devolver_cantidad()+self.cliente2.devolver_cantidad()+self.cliente3.devolver_cantidad()\n",
        "\t\tprint(\"El total de dinero del banco es: \",total)\n",
        "\t\tself.cliente1.imprimir()\n",
        "\t\tself.cliente2.imprimir()\n",
        "\t\tself.cliente3.imprimir()\n",
        " \n",
        " \n",
        " \n",
        "# creamos la clase Cliente\n",
        "class Cliente:\n",
        "\t# inicializamos\n",
        "\tdef __init__(self,nombre):\n",
        "\t\tself.nombre=nombre\n",
        "\t\tself.cantidad=0\n",
        " \n",
        "\t# función para depositar dinero\n",
        "\tdef depositar(self,cantidad):\n",
        "\t\tself.cantidad+=cantidad\n",
        " \n",
        "\t# función para extraer dinero\n",
        "\tdef extraer(self,cantidad):\n",
        "\t\tself.cantidad-=cantidad\n",
        " \n",
        "\t# función para obtener el total de dinero\n",
        "\tdef devolver_cantidad(self):\n",
        "\t\treturn self.cantidad\n",
        " \n",
        "\t# función para imprimir los datos del cliente\n",
        "\tdef imprimir(self):\n",
        "\t\tprint(self.nombre, \" tiene depositada una cantidad de \",self.cantidad)\n",
        " \n",
        " \n",
        "# bloque principal\n",
        "banco1=Banco()\n",
        "banco1.operacion()\n",
        "banco1.depositos()"
      ]
    },
    {
      "cell_type": "markdown",
      "metadata": {
        "id": "B7ZTRLdum2NG"
      },
      "source": [
        "##Ejercicio 7\n",
        "Desarrollar un programa que conste de una clase padre Cuenta y dos subclases PlazoFijo y CajaAhorro. Definir los atributos titular y cantidad y un método para imprimir los datos en la clase Cuenta. La clase CajaAhorro tendrá un método para heredar los datos y uno para mostrar la información.\n",
        "\n",
        "La clase PlazoFijo tendrá dos atributos propios, plazo e interés. Tendrá un método para obtener el importe del interés (cantidad*interés/100) y otro método para mostrar la información, datos del titular plazo, interés y total de interés.\n",
        "\n",
        "Crear al menos un objeto de cada subclase.\n",
        "\n"
      ]
    },
    {
      "cell_type": "code",
      "execution_count": 56,
      "metadata": {
        "id": "F2wvhFNYnI2Z"
      },
      "outputs": [
        {
          "name": "stdout",
          "output_type": "stream",
          "text": [
            "El total de dinero del banco es:  943\n",
            "Ivan  tiene depositada una cantidad de  600\n",
            "Marcos  tiene depositada una cantidad de  300\n",
            "Juan  tiene depositada una cantidad de  43\n"
          ]
        }
      ],
      "source": [
        "class Banco:\n",
        "\t# inicializamos\n",
        "\tdef __init__(self):\n",
        "\t\tself.cliente1=Cliente(\"Ivan\")\n",
        "\t\tself.cliente2=Cliente(\"Marcos\")\n",
        "\t\tself.cliente3=Cliente(\"Juan\")\n",
        " \n",
        "\t# función para operar\n",
        "\tdef operacion(self):\n",
        "\t\tself.cliente1.depositar(1000)\n",
        "\t\tself.cliente2.depositar(300)\n",
        "\t\tself.cliente3.depositar(43)\n",
        "\t\tself.cliente1.extraer(400)\n",
        " \n",
        "\t# función para obtener los depósitos totales\n",
        "\tdef depositos(self):\n",
        "\t\ttotal=self.cliente1.devolver_cantidad()+self.cliente2.devolver_cantidad()+self.cliente3.devolver_cantidad()\n",
        "\t\tprint(\"El total de dinero del banco es: \",total)\n",
        "\t\tself.cliente1.imprimir()\n",
        "\t\tself.cliente2.imprimir()\n",
        "\t\tself.cliente3.imprimir()\n",
        " \n",
        " \n",
        " \n",
        "# creamos la clase Cliente\n",
        "class Cliente:\n",
        "\t# inicializamos\n",
        "\tdef __init__(self,nombre):\n",
        "\t\tself.nombre=nombre\n",
        "\t\tself.cantidad=0\n",
        " \n",
        "\t# función para depositar dinero\n",
        "\tdef depositar(self,cantidad):\n",
        "\t\tself.cantidad+=cantidad\n",
        " \n",
        "\t# función para extraer dinero\n",
        "\tdef extraer(self,cantidad):\n",
        "\t\tself.cantidad-=cantidad\n",
        " \n",
        "\t# función para obtener el total de dinero\n",
        "\tdef devolver_cantidad(self):\n",
        "\t\treturn self.cantidad\n",
        " \n",
        "\t# función para imprimir los datos del cliente\n",
        "\tdef imprimir(self):\n",
        "\t\tprint(self.nombre, \" tiene depositada una cantidad de \",self.cantidad)\n",
        " \n",
        " \n",
        "# bloque principal\n",
        "banco1=Banco()\n",
        "banco1.operacion()\n",
        "banco1.depositos()"
      ]
    }
  ],
  "metadata": {
    "colab": {
      "name": "Challenge POO.ipynb",
      "provenance": []
    },
    "interpreter": {
      "hash": "78ad4e1916ef553fa413091b51d77ed22647cadf15f08fbace27dc02371ff43f"
    },
    "kernelspec": {
      "display_name": "Python 3.9.7 ('base')",
      "language": "python",
      "name": "python3"
    },
    "language_info": {
      "codemirror_mode": {
        "name": "ipython",
        "version": 3
      },
      "file_extension": ".py",
      "mimetype": "text/x-python",
      "name": "python",
      "nbconvert_exporter": "python",
      "pygments_lexer": "ipython3",
      "version": "3.9.7"
    }
  },
  "nbformat": 4,
  "nbformat_minor": 0
}
