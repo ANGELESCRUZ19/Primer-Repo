{
  "cells": [
    {
      "cell_type": "markdown",
      "metadata": {
        "id": "ms9SLG9zRMi5"
      },
      "source": [
        "Crear las siguientes variables.\n",
        "\n",
        "* Una variable donde asignes el nombre de una película\n",
        "* Una variable que contenga los primeros 4 decimales de PI\n",
        "* Una variable que contenga la cantidad de mascotas que tienes"
      ]
    },
    {
      "cell_type": "code",
      "execution_count": 14,
      "metadata": {
        "id": "HXryfKdpRsvT"
      },
      "outputs": [],
      "source": [
        "Pelicula = \"Uncharted\""
      ]
    },
    {
      "cell_type": "code",
      "execution_count": 15,
      "metadata": {
        "id": "Da31UjXVRtBB"
      },
      "outputs": [],
      "source": [
        "Pi = 3.1416"
      ]
    },
    {
      "cell_type": "code",
      "execution_count": 16,
      "metadata": {
        "id": "sFe9d8k7RtUj"
      },
      "outputs": [],
      "source": [
        "Mascotas = 2"
      ]
    },
    {
      "cell_type": "markdown",
      "metadata": {
        "id": "tZBN5IO_SoFr"
      },
      "source": [
        "Imprime los siguientes mensajes utilizando format de tal manera que el resultado sea parecido a lo siguiente:\n",
        "\n",
        "```bash\n",
        "La película que elegi es Harry Potter\n",
        "````\n",
        "\n",
        "```bash\n",
        "El valor de pi es 3.1416\n",
        "````\n",
        "\n",
        "```bash\n",
        "La cantidad de mascotas que tengo son 2\n",
        "````"
      ]
    },
    {
      "cell_type": "code",
      "execution_count": 18,
      "metadata": {
        "id": "EJfQXm6mSpGQ"
      },
      "outputs": [
        {
          "name": "stdout",
          "output_type": "stream",
          "text": [
            "La pelicula que elegi es Uncharted\n"
          ]
        }
      ],
      "source": [
        "print (\"La pelicula que elegi es\", format(Pelicula))"
      ]
    },
    {
      "cell_type": "code",
      "execution_count": 19,
      "metadata": {
        "id": "VVVGZruXSpSg"
      },
      "outputs": [
        {
          "name": "stdout",
          "output_type": "stream",
          "text": [
            "El valor de pi es 3.1416\n"
          ]
        }
      ],
      "source": [
        "print (\"El valor de pi es\", format(Pi))\n"
      ]
    },
    {
      "cell_type": "code",
      "execution_count": 20,
      "metadata": {
        "id": "ZvJiioi3SpjL"
      },
      "outputs": [
        {
          "name": "stdout",
          "output_type": "stream",
          "text": [
            "La cantidad de mascotas que tengo son 2\n"
          ]
        }
      ],
      "source": [
        "print (\"La cantidad de mascotas que tengo son\", format(Mascotas))"
      ]
    },
    {
      "cell_type": "markdown",
      "metadata": {
        "id": "qff5RNf_Sxvy"
      },
      "source": [
        "Crea una tabla utilizando f strings donde salgan 3 empleos aleatorios, sus respectivos sueldos y el país donde radican."
      ]
    },
    {
      "cell_type": "code",
      "execution_count": 42,
      "metadata": {
        "id": "uX7iBO31Td2G"
      },
      "outputs": [],
      "source": [
        "empleo1 = \"programador\"\n",
        "empleo2 = \"medico\"\n",
        "empleo3 = \"enfermero\"\n",
        "\n",
        "sueldo1 = \"80000\"\n",
        "sueldo2 = \"50000\"\n",
        "sueldo3 = \"30000\"\n",
        "\n",
        "pais1 = \"Mexico\"\n",
        "pais2 = \"Cuba\"\n",
        "pais3 = \"España\""
      ]
    },
    {
      "cell_type": "code",
      "execution_count": 48,
      "metadata": {},
      "outputs": [
        {
          "name": "stdout",
          "output_type": "stream",
          "text": [
            "programador  | 80000 | Mexico\n",
            "medico       | 50000 | Cuba\n",
            "enfermero    | 30000 | España\n"
          ]
        }
      ],
      "source": [
        "print(f\"{empleo1:12} | {sueldo1:5} | {pais1}\")\n",
        "print(f\"{empleo2:12} | {sueldo2:5} | {pais2}\")\n",
        "print(f\"{empleo3:12} | {sueldo3:5} | {pais3}\")"
      ]
    },
    {
      "cell_type": "markdown",
      "metadata": {
        "id": "yWqnOS4OQxQH"
      },
      "source": [
        "Desarrolla un programa donde pida 2 números y devuelva la suma, resta, multiplicación y división de los mismos."
      ]
    },
    {
      "cell_type": "code",
      "execution_count": 10,
      "metadata": {},
      "outputs": [
        {
          "name": "stdout",
          "output_type": "stream",
          "text": [
            "ingrese numero1\n"
          ]
        },
        {
          "ename": "ValueError",
          "evalue": "could not convert string to float: ''",
          "output_type": "error",
          "traceback": [
            "\u001b[1;31m---------------------------------------------------------------------------\u001b[0m",
            "\u001b[1;31mValueError\u001b[0m                                Traceback (most recent call last)",
            "\u001b[1;32mc:\\Users\\Angeles\\Desktop\\DATA_SCIENCE\\Challenge\\reto_intro_python.ipynb Cell 13'\u001b[0m in \u001b[0;36m<cell line: 2>\u001b[1;34m()\u001b[0m\n\u001b[0;32m      <a href='vscode-notebook-cell:/c%3A/Users/Angeles/Desktop/DATA_SCIENCE/Challenge/reto_intro_python.ipynb#ch0000050?line=0'>1</a>\u001b[0m \u001b[39mprint\u001b[39m (\u001b[39m\"\u001b[39m\u001b[39mingrese numero1\u001b[39m\u001b[39m\"\u001b[39m) \n\u001b[1;32m----> <a href='vscode-notebook-cell:/c%3A/Users/Angeles/Desktop/DATA_SCIENCE/Challenge/reto_intro_python.ipynb#ch0000050?line=1'>2</a>\u001b[0m numero1 \u001b[39m=\u001b[39m \u001b[39mfloat\u001b[39;49m(\u001b[39minput\u001b[39;49m())\n\u001b[0;32m      <a href='vscode-notebook-cell:/c%3A/Users/Angeles/Desktop/DATA_SCIENCE/Challenge/reto_intro_python.ipynb#ch0000050?line=2'>3</a>\u001b[0m \u001b[39mprint\u001b[39m (\u001b[39m\"\u001b[39m\u001b[39mingrese numero2\u001b[39m\u001b[39m\"\u001b[39m)\n\u001b[0;32m      <a href='vscode-notebook-cell:/c%3A/Users/Angeles/Desktop/DATA_SCIENCE/Challenge/reto_intro_python.ipynb#ch0000050?line=3'>4</a>\u001b[0m numero2 \u001b[39m=\u001b[39m \u001b[39mfloat\u001b[39m(\u001b[39minput\u001b[39m())\n",
            "\u001b[1;31mValueError\u001b[0m: could not convert string to float: ''"
          ]
        }
      ],
      "source": [
        "print (\"ingrese numero1\") \n",
        "numero1 = float(input())\n",
        "print (\"ingrese numero2\")\n",
        "numero2 = float(input())\n",
        "\n",
        "suma = numero1 + numero2\n",
        "resta = numero1 - numero2\n",
        "multiplicacion = numero1 * numero2\n",
        "division = numero1 / numero2\n",
        "\n",
        "print (\"la suma es:\", suma)\n",
        "print (\"la resta es:\", resta)\n",
        "print (\"la multiplicacion es:\", multiplicacion)\n",
        "print (\"la division es:\", division)\n"
      ]
    },
    {
      "cell_type": "markdown",
      "metadata": {
        "id": "n6_bQXdhT4l-"
      },
      "source": [
        "Crea una lista con 4 colores y despues ejecuta las siguientes lineas de código:"
      ]
    },
    {
      "cell_type": "code",
      "execution_count": 27,
      "metadata": {
        "id": "Zh8H7yfbT9iI"
      },
      "outputs": [],
      "source": [
        "colores = [\"verde\", \"rojo\", \"azul\", \"amarillo\"]\n"
      ]
    },
    {
      "cell_type": "code",
      "execution_count": 28,
      "metadata": {
        "id": "ook1SGxxT-1j"
      },
      "outputs": [
        {
          "name": "stdout",
          "output_type": "stream",
          "text": [
            "El color 0 es verde\n",
            "El color 1 es rojo\n",
            "El color 2 es azul\n",
            "El color 3 es amarillo\n"
          ]
        }
      ],
      "source": [
        "print(f\"El color 0 es {colores[0]}\")\n",
        "print(f\"El color 1 es {colores[1]}\")\n",
        "print(f\"El color 2 es {colores[2]}\")\n",
        "print(f\"El color 3 es {colores[3]}\")"
      ]
    },
    {
      "cell_type": "markdown",
      "metadata": {
        "id": "Nes2H1VBUOb-"
      },
      "source": [
        "Crea una lista con 4 ciudades y utilizando Slice, que aparezcan las 2 de enmedio"
      ]
    },
    {
      "cell_type": "code",
      "execution_count": 29,
      "metadata": {
        "id": "h9Lpky2pUVbu"
      },
      "outputs": [],
      "source": [
        "ciudades = [\"CDMX\", \"Merida\", \"Oaxaca\", \"Cancun\"]"
      ]
    },
    {
      "cell_type": "code",
      "execution_count": 33,
      "metadata": {},
      "outputs": [
        {
          "data": {
            "text/plain": [
              "['Merida', 'Oaxaca']"
            ]
          },
          "execution_count": 33,
          "metadata": {},
          "output_type": "execute_result"
        }
      ],
      "source": [
        "ciudades [1:3]"
      ]
    },
    {
      "cell_type": "markdown",
      "metadata": {
        "id": "KZRc8KrtUIXs"
      },
      "source": [
        "De nuestra lista de ciudades, imprime la ultima ciudad"
      ]
    },
    {
      "cell_type": "code",
      "execution_count": 34,
      "metadata": {},
      "outputs": [
        {
          "data": {
            "text/plain": [
              "'Cancun'"
            ]
          },
          "execution_count": 34,
          "metadata": {},
          "output_type": "execute_result"
        }
      ],
      "source": [
        "ciudades[-1]"
      ]
    },
    {
      "cell_type": "markdown",
      "metadata": {
        "id": "tm1WmrjoWX9g"
      },
      "source": [
        "Agrega los siguientes datos a tu lista de colores: \"Morado\", \"Rosa\""
      ]
    },
    {
      "cell_type": "code",
      "execution_count": 35,
      "metadata": {
        "id": "59n7yhbRWgda"
      },
      "outputs": [],
      "source": [
        "colores.append(\"Morado\")\n",
        "colores.append(\"Rosa\")"
      ]
    },
    {
      "cell_type": "code",
      "execution_count": 36,
      "metadata": {
        "id": "o6VX6k7HWg2r"
      },
      "outputs": [
        {
          "data": {
            "text/plain": [
              "['verde', 'rojo', 'azul', 'amarillo', 'Morado', 'Rosa']"
            ]
          },
          "execution_count": 36,
          "metadata": {},
          "output_type": "execute_result"
        }
      ],
      "source": [
        "colores"
      ]
    },
    {
      "cell_type": "markdown",
      "metadata": {
        "id": "raJtwSsMXObz"
      },
      "source": [
        "La siguiente lista contiene las alturas de 15 niños de cuarto grado, sacr el promedio de alturas."
      ]
    },
    {
      "cell_type": "code",
      "execution_count": 52,
      "metadata": {
        "id": "RBHJnt7RXVfn"
      },
      "outputs": [],
      "source": [
        "alturas = [1.35, 1.56, 1.42, 1.22, 1.37, 1.23, 1.40, 1.25, 1.22, 1.37, 1.30, 1.15, 1.24, 1.31, 1.17]"
      ]
    },
    {
      "cell_type": "code",
      "execution_count": 53,
      "metadata": {
        "id": "OMwiQWdPXs0D"
      },
      "outputs": [],
      "source": [
        "promedio = sum(alturas)/len(alturas)"
      ]
    },
    {
      "cell_type": "code",
      "execution_count": 54,
      "metadata": {},
      "outputs": [
        {
          "data": {
            "text/plain": [
              "1.304"
            ]
          },
          "execution_count": 54,
          "metadata": {},
          "output_type": "execute_result"
        }
      ],
      "source": [
        "promedio"
      ]
    },
    {
      "cell_type": "markdown",
      "metadata": {
        "id": "gnmvV-6CXtFf"
      },
      "source": [
        "Obten la altura mas chica del grupo"
      ]
    },
    {
      "cell_type": "code",
      "execution_count": 55,
      "metadata": {
        "id": "6_vnauWrXxxw"
      },
      "outputs": [
        {
          "data": {
            "text/plain": [
              "1.15"
            ]
          },
          "execution_count": 55,
          "metadata": {},
          "output_type": "execute_result"
        }
      ],
      "source": [
        "min(alturas)"
      ]
    },
    {
      "cell_type": "markdown",
      "metadata": {
        "id": "QA4QhB1RXyIP"
      },
      "source": [
        "Obten la altura más alta del grupo"
      ]
    },
    {
      "cell_type": "code",
      "execution_count": 56,
      "metadata": {
        "id": "zaEh5073X0Ef"
      },
      "outputs": [
        {
          "data": {
            "text/plain": [
              "1.56"
            ]
          },
          "execution_count": 56,
          "metadata": {},
          "output_type": "execute_result"
        }
      ],
      "source": [
        "max(alturas)"
      ]
    },
    {
      "cell_type": "markdown",
      "metadata": {
        "id": "PEOwRkHPZP-h"
      },
      "source": [
        "Crea un diccionario de perros, donde lleva 2 claves: Nombre y Raza"
      ]
    },
    {
      "cell_type": "code",
      "execution_count": 57,
      "metadata": {
        "id": "NbaNatoIa3M8"
      },
      "outputs": [],
      "source": [
        "perros =  {\"Nombre:\" \"Falcon\", \"Raza:\" \"Labrador\"}"
      ]
    },
    {
      "cell_type": "code",
      "execution_count": 58,
      "metadata": {
        "id": "x5K1wxDha3mu"
      },
      "outputs": [
        {
          "data": {
            "text/plain": [
              "{'Nombre:Falcon', 'Raza:Labrador'}"
            ]
          },
          "execution_count": 58,
          "metadata": {},
          "output_type": "execute_result"
        }
      ],
      "source": [
        "perros "
      ]
    },
    {
      "cell_type": "markdown",
      "metadata": {
        "id": "8uUUKwjxbBs9"
      },
      "source": [
        "Agrega una clave llamada Edad a nuestro diccionario y asignale un valor"
      ]
    },
    {
      "cell_type": "code",
      "execution_count": 71,
      "metadata": {
        "id": "fCCGf6WUbAWb"
      },
      "outputs": [
        {
          "ename": "TypeError",
          "evalue": "'set' object does not support item assignment",
          "output_type": "error",
          "traceback": [
            "\u001b[1;31m---------------------------------------------------------------------------\u001b[0m",
            "\u001b[1;31mTypeError\u001b[0m                                 Traceback (most recent call last)",
            "\u001b[1;32mc:\\Users\\Angeles\\Desktop\\DATA_SCIENCE\\Challenge\\reto_intro_python.ipynb Cell 38'\u001b[0m in \u001b[0;36m<cell line: 1>\u001b[1;34m()\u001b[0m\n\u001b[1;32m----> <a href='vscode-notebook-cell:/c%3A/Users/Angeles/Desktop/DATA_SCIENCE/Challenge/reto_intro_python.ipynb#ch0000033?line=0'>1</a>\u001b[0m perros[\u001b[39m'\u001b[39m\u001b[39mEdad\u001b[39m\u001b[39m'\u001b[39m] \u001b[39m=\u001b[39m \u001b[39m'\u001b[39m\u001b[39mdiez\u001b[39m\u001b[39m'\u001b[39m\n",
            "\u001b[1;31mTypeError\u001b[0m: 'set' object does not support item assignment"
          ]
        }
      ],
      "source": [
        "perros['Edad'] = 'diez'"
      ]
    },
    {
      "cell_type": "markdown",
      "metadata": {
        "id": "dlUIMAntbIer"
      },
      "source": [
        "Crea 2 diccionarios de perro más incluyendo el valor edad."
      ]
    },
    {
      "cell_type": "code",
      "execution_count": 76,
      "metadata": {
        "id": "1TgwcD9tbHDx"
      },
      "outputs": [],
      "source": [
        "perros2 =  {\"Nombre:\" \"Morlann\", \"Raza:\" \"Labrador\", \"Edad:\" \"5\"}"
      ]
    },
    {
      "cell_type": "code",
      "execution_count": 77,
      "metadata": {
        "id": "ubSDomr3bOxp"
      },
      "outputs": [
        {
          "data": {
            "text/plain": [
              "{'Edad:5', 'Nombre:Morlann', 'Raza:Labrador'}"
            ]
          },
          "execution_count": 77,
          "metadata": {},
          "output_type": "execute_result"
        }
      ],
      "source": [
        "perros2"
      ]
    },
    {
      "cell_type": "code",
      "execution_count": 78,
      "metadata": {},
      "outputs": [],
      "source": [
        "perros3 =  {\"Nombre:\" \"Shoolo\", \"Raza:\" \"Gran danes\", \"Edad:\" \"4\"}"
      ]
    },
    {
      "cell_type": "code",
      "execution_count": 79,
      "metadata": {},
      "outputs": [
        {
          "data": {
            "text/plain": [
              "{'Edad:4', 'Nombre:Shoolo', 'Raza:Gran danes'}"
            ]
          },
          "execution_count": 79,
          "metadata": {},
          "output_type": "execute_result"
        }
      ],
      "source": [
        "perros3"
      ]
    },
    {
      "cell_type": "markdown",
      "metadata": {
        "id": "htGYP7tdbUQh"
      },
      "source": [
        "Crea una lista llamada mascotas y dentro de los corchetes, agrega los 3 diccionarios"
      ]
    },
    {
      "cell_type": "code",
      "execution_count": 82,
      "metadata": {
        "id": "nc2LaxGYbPDG"
      },
      "outputs": [],
      "source": [
        "Mascotas = [perros, perros2, perros3]"
      ]
    },
    {
      "cell_type": "code",
      "execution_count": 83,
      "metadata": {},
      "outputs": [
        {
          "data": {
            "text/plain": [
              "[{'Edad:5', 'Nombre:Morlann', 'Raza:Labrador'},\n",
              " {'Edad:5', 'Nombre:Morlann', 'Raza:Labrador'},\n",
              " {'Edad:4', 'Nombre:Shoolo', 'Raza:Gran danes'}]"
            ]
          },
          "execution_count": 83,
          "metadata": {},
          "output_type": "execute_result"
        }
      ],
      "source": [
        "Mascotas"
      ]
    }
  ],
  "metadata": {
    "colab": {
      "name": "reto-intro-python.ipynb",
      "provenance": []
    },
    "interpreter": {
      "hash": "78ad4e1916ef553fa413091b51d77ed22647cadf15f08fbace27dc02371ff43f"
    },
    "kernelspec": {
      "display_name": "Python 3.9.7 ('base')",
      "language": "python",
      "name": "python3"
    },
    "language_info": {
      "codemirror_mode": {
        "name": "ipython",
        "version": 3
      },
      "file_extension": ".py",
      "mimetype": "text/x-python",
      "name": "python",
      "nbconvert_exporter": "python",
      "pygments_lexer": "ipython3",
      "version": "3.9.7"
    }
  },
  "nbformat": 4,
  "nbformat_minor": 0
}
